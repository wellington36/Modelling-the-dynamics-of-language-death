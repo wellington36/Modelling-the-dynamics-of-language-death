{
 "cells": [
  {
   "cell_type": "markdown",
   "id": "07f00b16",
   "metadata": {},
   "source": [
    "### Imports:"
   ]
  },
  {
   "cell_type": "code",
   "execution_count": 1,
   "id": "8d5e9b89",
   "metadata": {},
   "outputs": [],
   "source": [
    "%matplotlib inline\n",
    "import pymc3 as pm\n",
    "from pymc3.ode import DifferentialEquation\n",
    "import numpy as np\n",
    "import matplotlib.pyplot as plt\n",
    "from scipy.integrate import odeint\n",
    "import arviz as az\n",
    "import theano\n",
    "from sklearn.metrics import r2_score\n",
    "\n",
    "plt.style.use('seaborn-darkgrid')"
   ]
  },
  {
   "cell_type": "markdown",
   "id": "985cc923",
   "metadata": {},
   "source": [
    "Modelo"
   ]
  },
  {
   "cell_type": "code",
   "execution_count": 2,
   "id": "4e38ae81",
   "metadata": {},
   "outputs": [],
   "source": [
    "def SIR(y, t, p):\n",
    "    dt = (1 - y[0])*p[0]*p[1]*(y[0])**p[2] + y[0]*p[0]*(1-p[1])*(1-y[0])**p[2]\n",
    "    return [dt]"
   ]
  },
  {
   "cell_type": "markdown",
   "id": "b27bd8d0",
   "metadata": {},
   "source": [
    "Testando os dados do modelo:"
   ]
  },
  {
   "cell_type": "code",
   "execution_count": 92,
   "id": "588707e5",
   "metadata": {},
   "outputs": [
    {
     "data": {
      "image/png": "[encoded data removed]",
      "text/plain": [
       "<Figure size 432x288 with 1 Axes>"
      ]
     },
     "metadata": {},
     "output_type": "display_data"
    }
   ],
   "source": [
    "times = np.array([1881, 1891, 1901, 1911, 1921, 1931, 1951, 1961, 1971])\n",
    "\n",
    "\n",
    "# Gerando curvas simuladas\n",
    "y = odeint(SIR, y0=[0.092], t=times, args=((-0.22, 0.8, 1),), rtol=1e-8) # argumentos chutados\n",
    "# dados (nesse caso ficticios)\n",
    "yobs = np.array([[0.068], [0.055], [0.045], [0.034], [0.029], [0.019], [0.016], [0.017]])\n",
    "\n",
    "plt.plot(times[1::], yobs, marker='o', linestyle='none')\n",
    "plt.plot(times, y[:], color='C0', alpha=0.5, label=f'$S(t)$')\n",
    "plt.legend();"
   ]
  },
  {
   "cell_type": "markdown",
   "id": "2c04a865",
   "metadata": {},
   "source": [
    "Definindo o modelo:"
   ]
  },
  {
   "cell_type": "code",
   "execution_count": 93,
   "id": "268736a4",
   "metadata": {},
   "outputs": [],
   "source": [
    "sir_model = DifferentialEquation(\n",
    "    func=SIR,\n",
    "    times=np.array([1891, 1901, 1911, 1921, 1931, 1951, 1961, 1971]),\n",
    "    n_states=1,\n",
    "    n_theta=3,\n",
    "    t0=1881,\n",
    ")\n",
    "\n",
    "yobs = np.array([[0.068], [0.055], [0.045], [0.034], [0.029], [0.019], [0.016], [0.017]])"
   ]
  },
  {
   "cell_type": "markdown",
   "id": "aa7855a3",
   "metadata": {},
   "source": [
    "Estimação dos parametro (c, s e a):"
   ]
  },
  {
   "cell_type": "code",
   "execution_count": null,
   "id": "6e5bda9c",
   "metadata": {
    "scrolled": true
   },
   "outputs": [
    {
     "name": "stderr",
     "output_type": "stream",
     "text": [
      "/tmp/ipykernel_2837/1254916709.py:15: FutureWarning: In v4.0, pm.sample will return an `arviz.InferenceData` object instead of a `MultiTrace` by default. You can pass return_inferencedata=True or return_inferencedata=False to be safe and silence this warning.\n",
      "  trace = pm.sample(5000, tune=2500, start={'R0': np.array(2), 'c': np.array(-0.5), 'sigma': np.array([1]), 's': np.array(0.5), 'a': np.array(2)})\n",
      "Auto-assigning NUTS sampler...\n",
      "Initializing NUTS using jitter+adapt_diag...\n",
      "Multiprocess sampling (4 chains in 4 jobs)\n",
      "NUTS: [t0, a, s, c, R0, sigma]\n"
     ]
    },
    {
     "data": {
      "text/html": [
       "\n",
       "    <div>\n",
       "        <style>\n",
       "            /* Turns off some styling */\n",
       "            progress {\n",
       "                /* gets rid of default border in Firefox and Opera. */\n",
       "                border: none;\n",
       "                /* Needs to be in here for Safari polyfill so background images work as expected. */\n",
       "                background-size: auto;\n",
       "            }\n",
       "            .progress-bar-interrupted, .progress-bar-interrupted::-webkit-progress-bar {\n",
       "                background: #F44336;\n",
       "            }\n",
       "        </style>\n",
       "      <progress value='672' class='' max='30000' style='width:300px; height:20px; vertical-align: middle;'></progress>\n",
       "      2.24% [672/30000 04:01<2:55:26 Sampling 4 chains, 0 divergences]\n",
       "    </div>\n",
       "    "
      ],
      "text/plain": [
       "<IPython.core.display.HTML object>"
      ]
     },
     "metadata": {},
     "output_type": "display_data"
    },
    {
     "name": "stderr",
     "output_type": "stream",
     "text": [
      "/usr/lib/python3.9/site-packages/scipy/integrate/odepack.py:247: ODEintWarning: Excess accuracy requested (tolerances too small). Run with full_output = 1 to get quantitative information.\n",
      "  warnings.warn(warning_msg, ODEintWarning)\n"
     ]
    },
    {
     "name": "stdout",
     "output_type": "stream",
     "text": [
      " lsoda--  at t (=r1), too much accuracy requested  \u0000\u0000\n",
      "       for precision of machine..  see tolsf (=r2) \u0000\u0000\n",
      "      in above,  r1 =  0.1957614726382D+04   r2 =                  NaN\n"
     ]
    },
    {
     "name": "stderr",
     "output_type": "stream",
     "text": [
      "/usr/lib/python3.9/site-packages/scipy/integrate/odepack.py:247: ODEintWarning: Excess accuracy requested (tolerances too small). Run with full_output = 1 to get quantitative information.\n",
      "  warnings.warn(warning_msg, ODEintWarning)\n"
     ]
    },
    {
     "name": "stdout",
     "output_type": "stream",
     "text": [
      " lsoda--  at t (=r1), too much accuracy requested  \u0000\u0000\n",
      "       for precision of machine..  see tolsf (=r2) \u0000\u0000\n",
      "      in above,  r1 =  0.1961197453397D+04   r2 =                  NaN\n",
      " lsoda--  at t (=r1), too much accuracy requested  \u0000\u0000\n",
      "       for precision of machine..  see tolsf (=r2) \u0000\u0000\n",
      "      in above,  r1 =  0.1914057552984D+04   r2 =                  NaN\n"
     ]
    },
    {
     "name": "stderr",
     "output_type": "stream",
     "text": [
      "/usr/lib/python3.9/site-packages/scipy/integrate/odepack.py:247: ODEintWarning: Excess accuracy requested (tolerances too small). Run with full_output = 1 to get quantitative information.\n",
      "  warnings.warn(warning_msg, ODEintWarning)\n"
     ]
    },
    {
     "name": "stdout",
     "output_type": "stream",
     "text": [
      " lsoda--  at t (=r1), too much accuracy requested  \u0000\u0000\n",
      "       for precision of machine..  see tolsf (=r2) \u0000\u0000\n",
      "      in above,  r1 =  0.1890798616056D+04   r2 =                  NaN\n"
     ]
    }
   ],
   "source": [
    "with pm.Model() as model4:\n",
    "    sigma = pm.HalfCauchy('sigma', 1, shape=1)\n",
    "\n",
    "    # Distribuições a priori (lower liminf, upper limsup)\n",
    "    R0 = pm.Bound(pm.Normal, lower=1)('R0', 2, 3)\n",
    "    c = pm.Uniform('c', -3, 0)\n",
    "    s = pm.Uniform('s', 0, 1)\n",
    "    a = pm.Uniform('a', 0, 6)\n",
    "    t0 = pm.Uniform('t0', 0, 1)\n",
    "    \n",
    "    sir_curves = sir_model(y0=[t0], theta=[c, s, a])\n",
    "\n",
    "    Y = pm.Lognormal('Y', mu=pm.math.log(sir_curves), sigma=sigma, observed=yobs)\n",
    "#    db = pm.backends.HDF5('traces.h5') # Salva as amostras e assim evita de manter tudo na memória\n",
    "    trace = pm.sample(5000, tune=2500, start={'R0': np.array(2), 'c': np.array(-0.5), 'sigma': np.array([1]), 's': np.array(0.5), 'a': np.array(2)})"
   ]
  },
  {
   "cell_type": "markdown",
   "id": "89ce87ce",
   "metadata": {},
   "source": [
    "Dados da estimação dos parametros:"
   ]
  },
  {
   "cell_type": "code",
   "execution_count": null,
   "id": "0418200a",
   "metadata": {},
   "outputs": [],
   "source": [
    "data = az.from_pymc3(trace=trace)\n",
    "data"
   ]
  },
  {
   "cell_type": "markdown",
   "id": "5ba6d83c",
   "metadata": {},
   "source": [
    "Posteriori dos parametros"
   ]
  },
  {
   "cell_type": "code",
   "execution_count": null,
   "id": "fa329d4e",
   "metadata": {
    "scrolled": false
   },
   "outputs": [],
   "source": [
    "az.plot_posterior(data, round_to=2, hdi_prob=0.06);"
   ]
  },
  {
   "cell_type": "code",
   "execution_count": null,
   "id": "a6b08842",
   "metadata": {
    "scrolled": true
   },
   "outputs": [],
   "source": [
    "az.plot_trace(trace);"
   ]
  },
  {
   "cell_type": "markdown",
   "id": "8e16b3f6",
   "metadata": {},
   "source": [
    "Modelagem do Gaelic"
   ]
  },
  {
   "cell_type": "code",
   "execution_count": 95,
   "id": "bc6c43e0",
   "metadata": {
    "scrolled": true
   },
   "outputs": [
    {
     "name": "stdout",
     "output_type": "stream",
     "text": [
      "[[0.097     ]\n",
      " [0.07416598]\n",
      " [0.05904185]\n",
      " [0.04843641]\n",
      " [0.04066421]\n",
      " [0.03476651]\n",
      " [0.0264885 ]\n",
      " [0.02349665]\n",
      " [0.02102151]]\n"
     ]
    },
    {
     "data": {
      "image/png": "[encoded data removed]",
      "text/plain": [
       "<Figure size 432x288 with 1 Axes>"
      ]
     },
     "metadata": {},
     "output_type": "display_data"
    }
   ],
   "source": [
    "y = odeint(SIR, y0=[0.097], t=times, args=((-0.2, 0.99, 1.8),), rtol=1e-8)\n",
    "print(y)\n",
    "\n",
    "plt.plot(times[1::], yobs, marker='o', linestyle='none')\n",
    "plt.plot(times, y[:], color='C0', alpha=0.5, label=f'$S(t)$')\n",
    "plt.legend();"
   ]
  },
  {
   "cell_type": "markdown",
   "id": "4ab00dd9",
   "metadata": {},
   "source": [
    "O r2 do plot acima:"
   ]
  },
  {
   "cell_type": "code",
   "execution_count": 96,
   "id": "ca7c58db",
   "metadata": {
    "scrolled": false
   },
   "outputs": [
    {
     "data": {
      "text/plain": [
       "0.8938845703759892"
      ]
     },
     "execution_count": 96,
     "metadata": {},
     "output_type": "execute_result"
    }
   ],
   "source": [
    "abs(r2_score(np.array([[0.068], [0.055], [0.045], [0.034], [0.029], [0.019], [0.016], [0.017]]), y[1::]))"
   ]
  },
  {
   "cell_type": "code",
   "execution_count": 97,
   "id": "4dd73ab4",
   "metadata": {},
   "outputs": [
    {
     "name": "stdout",
     "output_type": "stream",
     "text": [
      "The watermark extension is already loaded. To reload it, use:\n",
      "  %reload_ext watermark\n",
      "Last updated: Mon Nov 22 2021\n",
      "\n",
      "Python implementation: CPython\n",
      "Python version       : 3.9.7\n",
      "IPython version      : 7.29.0\n",
      "\n",
      "theano    : 1.1.2\n",
      "matplotlib: 3.4.2\n",
      "numpy     : 1.21.2\n",
      "pymc3     : 3.11.4\n",
      "arviz     : 0.11.4\n",
      "\n",
      "Watermark: 2.2.0\n",
      "\n"
     ]
    }
   ],
   "source": [
    "%load_ext watermark\n",
    "%watermark -n -u -v -iv -w"
   ]
  }
 ],
 "metadata": {
  "kernelspec": {
   "display_name": "Python 3 (ipykernel)",
   "language": "python",
   "name": "python3"
  },
  "language_info": {
   "codemirror_mode": {
    "name": "ipython",
    "version": 3
   },
   "file_extension": ".py",
   "mimetype": "text/x-python",
   "name": "python",
   "nbconvert_exporter": "python",
   "pygments_lexer": "ipython3",
   "version": "3.9.7"
  }
 },
 "nbformat": 4,
 "nbformat_minor": 5
}
