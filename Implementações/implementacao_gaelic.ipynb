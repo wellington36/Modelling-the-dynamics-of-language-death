{
 "cells": [
  {
   "cell_type": "code",
   "execution_count": 1,
   "id": "dc7b640c",
   "metadata": {},
   "outputs": [
    {
     "name": "stdout",
     "output_type": "stream",
     "text": [
      "Defaulting to user installation because normal site-packages is not writeable\n",
      "Requirement already satisfied: pymc3 in /home/wellington/.local/lib/python3.9/site-packages (3.11.4)\n",
      "Requirement already satisfied: dill in /home/wellington/.local/lib/python3.9/site-packages (from pymc3) (0.3.4)\n",
      "Requirement already satisfied: scipy>=1.2.0 in /usr/lib/python3.9/site-packages (from pymc3) (1.7.1)\n",
      "Requirement already satisfied: typing-extensions>=3.7.4 in /home/wellington/.local/lib/python3.9/site-packages (from pymc3) (3.10.0.0)\n",
      "Requirement already satisfied: patsy>=0.5.1 in /home/wellington/.local/lib/python3.9/site-packages (from pymc3) (0.5.2)\n",
      "Requirement already satisfied: fastprogress>=0.2.0 in /home/wellington/.local/lib/python3.9/site-packages (from pymc3) (1.0.0)\n",
      "Requirement already satisfied: theano-pymc==1.1.2 in /home/wellington/.local/lib/python3.9/site-packages (from pymc3) (1.1.2)\n",
      "Requirement already satisfied: numpy>=1.15.0 in /home/wellington/.local/lib/python3.9/site-packages (from pymc3) (1.21.2)\n",
      "Requirement already satisfied: pandas>=0.24.0 in /home/wellington/.local/lib/python3.9/site-packages (from pymc3) (1.3.1)\n",
      "Requirement already satisfied: semver>=2.13.0 in /home/wellington/.local/lib/python3.9/site-packages (from pymc3) (2.13.0)\n",
      "Requirement already satisfied: cachetools>=4.2.1 in /usr/lib/python3.9/site-packages (from pymc3) (4.2.3)\n",
      "Requirement already satisfied: arviz>=0.11.0 in /home/wellington/.local/lib/python3.9/site-packages (from pymc3) (0.11.4)\n",
      "Requirement already satisfied: filelock in /usr/lib/python3.9/site-packages (from theano-pymc==1.1.2->pymc3) (3.0.12)\n",
      "Requirement already satisfied: packaging in /home/wellington/.local/lib/python3.9/site-packages (from arviz>=0.11.0->pymc3) (21.0)\n",
      "Requirement already satisfied: xarray>=0.16.1 in /home/wellington/.local/lib/python3.9/site-packages (from arviz>=0.11.0->pymc3) (0.20.1)\n",
      "Requirement already satisfied: matplotlib>=3.0 in /home/wellington/.local/lib/python3.9/site-packages (from arviz>=0.11.0->pymc3) (3.4.2)\n",
      "Requirement already satisfied: netcdf4 in /home/wellington/.local/lib/python3.9/site-packages (from arviz>=0.11.0->pymc3) (1.5.8)\n",
      "Requirement already satisfied: setuptools>=38.4 in /home/wellington/.local/lib/python3.9/site-packages (from arviz>=0.11.0->pymc3) (57.4.0)\n",
      "Requirement already satisfied: python-dateutil>=2.7.3 in /usr/lib/python3.9/site-packages (from pandas>=0.24.0->pymc3) (2.8.2)\n",
      "Requirement already satisfied: pytz>=2017.3 in /usr/lib/python3.9/site-packages (from pandas>=0.24.0->pymc3) (2021.1)\n",
      "Requirement already satisfied: six in /usr/lib/python3.9/site-packages (from patsy>=0.5.1->pymc3) (1.16.0)\n",
      "Requirement already satisfied: cycler>=0.10 in /home/wellington/.local/lib/python3.9/site-packages (from matplotlib>=3.0->arviz>=0.11.0->pymc3) (0.10.0)\n",
      "Requirement already satisfied: pyparsing>=2.2.1 in /home/wellington/.local/lib/python3.9/site-packages (from matplotlib>=3.0->arviz>=0.11.0->pymc3) (2.4.7)\n",
      "Requirement already satisfied: kiwisolver>=1.0.1 in /home/wellington/.local/lib/python3.9/site-packages (from matplotlib>=3.0->arviz>=0.11.0->pymc3) (1.3.1)\n",
      "Requirement already satisfied: pillow>=6.2.0 in /usr/lib/python3.9/site-packages (from matplotlib>=3.0->arviz>=0.11.0->pymc3) (8.3.2)\n",
      "Requirement already satisfied: cftime in /home/wellington/.local/lib/python3.9/site-packages (from netcdf4->arviz>=0.11.0->pymc3) (1.5.1.1)\n"
     ]
    }
   ],
   "source": [
    "!pip install pymc3"
   ]
  },
  {
   "cell_type": "markdown",
   "id": "bc1ccd3b",
   "metadata": {},
   "source": [
    "### Imports:"
   ]
  },
  {
   "cell_type": "code",
   "execution_count": 3,
   "id": "8d5e9b89",
   "metadata": {},
   "outputs": [],
   "source": [
    "%matplotlib inline\n",
    "import pymc3 as pm\n",
    "from pymc3.ode import DifferentialEquation\n",
    "import numpy as np\n",
    "import matplotlib.pyplot as plt\n",
    "from scipy.integrate import odeint\n",
    "import arviz as az\n",
    "import theano\n",
    "\n",
    "plt.style.use('seaborn-darkgrid')"
   ]
  },
  {
   "cell_type": "markdown",
   "id": "e8624cdd",
   "metadata": {},
   "source": [
    "Modelo"
   ]
  },
  {
   "cell_type": "code",
   "execution_count": 4,
   "id": "4e38ae81",
   "metadata": {},
   "outputs": [],
   "source": [
    "def SIR(y, t, p):\n",
    "    dt = (1 - y[0])*p[0]*p[1]*(y[0])**p[2] + y[0]*p[0]*(1-p[1])*(1-y[0])**p[2]\n",
    "    return [dt]"
   ]
  },
  {
   "cell_type": "markdown",
   "id": "031e8b5f",
   "metadata": {},
   "source": [
    "Testando os dados do modelo:"
   ]
  },
  {
   "cell_type": "code",
   "execution_count": 8,
   "id": "588707e5",
   "metadata": {},
   "outputs": [
    {
     "data": {
      "image/png": "[encoded data removed]",
      "text/plain": [
       "<Figure size 432x288 with 1 Axes>"
      ]
     },
     "metadata": {},
     "output_type": "display_data"
    }
   ],
   "source": [
    "times = np.array([1891, 1901, 1911, 1921, 1931, 1951, 1961, 1971])\n",
    "\n",
    "\n",
    "# Gerando curvas simuladas\n",
    "y = odeint(SIR, y0=[0.068], t=times, args=((-0.22, 0.8, 1),), rtol=1e-8) # argumentos chutados\n",
    "# dados (nesse caso ficticios)\n",
    "yobs = np.array([[0.055], [0.045], [0.034], [0.029], [0.019], [0.016], [0.017]])\n",
    "\n",
    "plt.plot(times[1::], yobs, marker='o', linestyle='none')\n",
    "plt.plot(times, y[:], color='C0', alpha=0.5, label=f'$S(t)$')\n",
    "plt.legend();"
   ]
  },
  {
   "cell_type": "markdown",
   "id": "1225d875",
   "metadata": {},
   "source": [
    "Definindo o modelo:"
   ]
  },
  {
   "cell_type": "code",
   "execution_count": 9,
   "id": "268736a4",
   "metadata": {},
   "outputs": [],
   "source": [
    "sir_model = DifferentialEquation(\n",
    "    func=SIR,\n",
    "    times=np.array([1901, 1911, 1921, 1931, 1951, 1961, 1971]),\n",
    "    n_states=1,\n",
    "    n_theta=3,\n",
    "    t0=1891,\n",
    ")"
   ]
  },
  {
   "cell_type": "markdown",
   "id": "1f81339f",
   "metadata": {},
   "source": [
    "Estimação dos parametro (c, s e a):"
   ]
  },
  {
   "cell_type": "code",
   "execution_count": null,
   "id": "6e5bda9c",
   "metadata": {},
   "outputs": [
    {
     "name": "stderr",
     "output_type": "stream",
     "text": [
      "/tmp/ipykernel_3798/1089066283.py:14: FutureWarning: In v4.0, pm.sample will return an `arviz.InferenceData` object instead of a `MultiTrace` by default. You can pass return_inferencedata=True or return_inferencedata=False to be safe and silence this warning.\n",
      "  trace = pm.sample(2000, tune=1000, start={'R0': np.array(2), 'c': np.array(-0.2), 'sigma': np.array([1]), 's': np.array(0.5), 'a': np.array(1.31)})\n",
      "Auto-assigning NUTS sampler...\n",
      "Initializing NUTS using jitter+adapt_diag...\n",
      "Multiprocess sampling (4 chains in 4 jobs)\n",
      "NUTS: [a, s, c, R0, sigma]\n"
     ]
    },
    {
     "data": {
      "text/html": [
       "\n",
       "    <div>\n",
       "        <style>\n",
       "            /* Turns off some styling */\n",
       "            progress {\n",
       "                /* gets rid of default border in Firefox and Opera. */\n",
       "                border: none;\n",
       "                /* Needs to be in here for Safari polyfill so background images work as expected. */\n",
       "                background-size: auto;\n",
       "            }\n",
       "            .progress-bar-interrupted, .progress-bar-interrupted::-webkit-progress-bar {\n",
       "                background: #F44336;\n",
       "            }\n",
       "        </style>\n",
       "      <progress value='5768' class='' max='12000' style='width:300px; height:20px; vertical-align: middle;'></progress>\n",
       "      48.07% [5768/12000 34:13<36:58 Sampling 4 chains, 657 divergences]\n",
       "    </div>\n",
       "    "
      ],
      "text/plain": [
       "<IPython.core.display.HTML object>"
      ]
     },
     "metadata": {},
     "output_type": "display_data"
    },
    {
     "name": "stderr",
     "output_type": "stream",
     "text": [
      "/usr/lib/python3.9/site-packages/scipy/integrate/odepack.py:247: ODEintWarning: Excess accuracy requested (tolerances too small). Run with full_output = 1 to get quantitative information.\n",
      "  warnings.warn(warning_msg, ODEintWarning)\n"
     ]
    },
    {
     "name": "stdout",
     "output_type": "stream",
     "text": [
      " lsoda--  at t (=r1), too much accuracy requested  \u0000\u0000\n",
      "       for precision of machine..  see tolsf (=r2) \u0000\u0000\n",
      "      in above,  r1 =  0.1892173354949D+04   r2 =                  NaN\n"
     ]
    },
    {
     "name": "stderr",
     "output_type": "stream",
     "text": [
      "/usr/lib/python3.9/site-packages/scipy/integrate/odepack.py:247: ODEintWarning: Excess accuracy requested (tolerances too small). Run with full_output = 1 to get quantitative information.\n",
      "  warnings.warn(warning_msg, ODEintWarning)\n"
     ]
    },
    {
     "name": "stdout",
     "output_type": "stream",
     "text": [
      " lsoda--  at t (=r1), too much accuracy requested  \u0000\u0000\n",
      "       for precision of machine..  see tolsf (=r2) \u0000\u0000\n",
      "      in above,  r1 =  0.1965548959671D+04   r2 =                  NaN\n"
     ]
    },
    {
     "name": "stderr",
     "output_type": "stream",
     "text": [
      "/usr/lib/python3.9/site-packages/scipy/integrate/odepack.py:247: ODEintWarning: Excess accuracy requested (tolerances too small). Run with full_output = 1 to get quantitative information.\n",
      "  warnings.warn(warning_msg, ODEintWarning)\n"
     ]
    },
    {
     "name": "stdout",
     "output_type": "stream",
     "text": [
      " lsoda--  at t (=r1), too much accuracy requested  \u0000\u0000\n",
      "       for precision of machine..  see tolsf (=r2) \u0000\u0000\n",
      "      in above,  r1 =  0.1920888617366D+04   r2 =                  NaN\n",
      " lsoda--  at t (=r1), too much accuracy requested  \u0000\u0000\n",
      "       for precision of machine..  see tolsf (=r2) \u0000\u0000\n",
      "      in above,  r1 =  0.1962636670263D+04   r2 =                  NaN\n",
      " lsoda--  at t (=r1), too much accuracy requested  \u0000\u0000\n",
      "       for precision of machine..  see tolsf (=r2) \u0000\u0000\n",
      "      in above,  r1 =  0.1930376738643D+04   r2 =                  NaN\n",
      " lsoda--  at t (=r1), too much accuracy requested  \u0000\u0000\n",
      "       for precision of machine..  see tolsf (=r2) \u0000\u0000\n",
      "      in above,  r1 =  0.1913705987211D+04   r2 =                  NaN\n",
      " lsoda--  at t (=r1), too much accuracy requested  \u0000\u0000\n",
      "       for precision of machine..  see tolsf (=r2) \u0000\u0000\n",
      "      in above,  r1 =  0.1940905155188D+04   r2 =                  NaN\n",
      " lsoda--  at t (=r1), too much accuracy requested  \u0000\u0000\n",
      "       for precision of machine..  see tolsf (=r2) \u0000\u0000\n",
      "      in above,  r1 =  0.1896502591522D+04   r2 =                  NaN\n",
      " lsoda--  at t (=r1), too much accuracy requested  \u0000\u0000\n",
      "       for precision of machine..  see tolsf (=r2) \u0000\u0000\n",
      "      in above,  r1 =  0.1918824215216D+04   r2 =                  NaN\n",
      " lsoda--  warning..internal t (=r1) and h (=r2) are\u0000\u0000\n",
      "       such that in the machine, t + h = t on the next step  \n",
      "       (h = step size). solver will continue anyway\u0000\u0000\n",
      "      in above,  r1 =  0.1969439342482D+04   r2 =  0.9239938995319D-13\n",
      " lsoda--  warning..internal t (=r1) and h (=r2) are\u0000\u0000\n",
      "       such that in the machine, t + h = t on the next step  \n",
      "       (h = step size). solver will continue anyway\u0000\u0000\n",
      "      in above,  r1 =  0.1969439342482D+04   r2 =  0.7237276041807D-13\n",
      " lsoda--  warning..internal t (=r1) and h (=r2) are\u0000\u0000\n",
      "       such that in the machine, t + h = t on the next step  \n",
      "       (h = step size). solver will continue anyway\u0000\u0000\n",
      "      in above,  r1 =  0.1969439342482D+04   r2 =  0.5668669811563D-13\n",
      " lsoda--  warning..internal t (=r1) and h (=r2) are\u0000\u0000\n",
      "       such that in the machine, t + h = t on the next step  \n",
      "       (h = step size). solver will continue anyway\u0000\u0000\n",
      "      in above,  r1 =  0.1969439342482D+04   r2 =  0.4440042976493D-13\n",
      " lsoda--  warning..internal t (=r1) and h (=r2) are\u0000\u0000\n",
      "       such that in the machine, t + h = t on the next step  \n",
      "       (h = step size). solver will continue anyway\u0000\u0000\n",
      "      in above,  r1 =  0.1969439342482D+04   r2 =  0.3477708494844D-13\n",
      " lsoda--  warning..internal t (=r1) and h (=r2) are\u0000\u0000\n",
      "       such that in the machine, t + h = t on the next step  \n",
      "       (h = step size). solver will continue anyway\u0000\u0000\n",
      "      in above,  r1 =  0.1969439342482D+04   r2 =  0.2723950229254D-13\n",
      " lsoda--  warning..internal t (=r1) and h (=r2) are\u0000\u0000\n",
      "       such that in the machine, t + h = t on the next step  \n",
      "       (h = step size). solver will continue anyway\u0000\u0000\n",
      "      in above,  r1 =  0.1969439342482D+04   r2 =  0.2133561419445D-13\n",
      " lsoda--  warning..internal t (=r1) and h (=r2) are\u0000\u0000\n",
      "       such that in the machine, t + h = t on the next step  \n",
      "       (h = step size). solver will continue anyway\u0000\u0000\n",
      "      in above,  r1 =  0.1969439342482D+04   r2 =  0.1671133404705D-13\n",
      " lsoda--  warning..internal t (=r1) and h (=r2) are\u0000\u0000\n",
      "       such that in the machine, t + h = t on the next step  \n",
      "       (h = step size). solver will continue anyway\u0000\u0000\n",
      "      in above,  r1 =  0.1969439342482D+04   r2 =  0.1308931987417D-13\n",
      " lsoda--  warning..internal t (=r1) and h (=r2) are\u0000\u0000\n",
      "       such that in the machine, t + h = t on the next step  \n",
      "       (h = step size). solver will continue anyway\u0000\u0000\n",
      "      in above,  r1 =  0.1969439342482D+04   r2 =  0.1025234072621D-13\n",
      " lsoda--  above warning has been issued i1 times.  \u0000\u0000\n",
      "       it will not be issued again for this problem\u0000\u0000\n",
      "      in above message,  i1 =        10\n"
     ]
    },
    {
     "name": "stderr",
     "output_type": "stream",
     "text": [
      "/usr/lib/python3.9/site-packages/scipy/integrate/odepack.py:247: ODEintWarning: Excess work done on this call (perhaps wrong Dfun type). Run with full_output = 1 to get quantitative information.\n",
      "  warnings.warn(warning_msg, ODEintWarning)\n"
     ]
    }
   ],
   "source": [
    "with pm.Model() as model4:\n",
    "    sigma = pm.HalfCauchy('sigma', 1, shape=1)\n",
    "\n",
    "    # Distribuições a priori (lower liminf, upper limsup)\n",
    "    R0 = pm.Bound(pm.Normal, lower=1)('R0', 2, 3)\n",
    "    c = pm.Uniform('c', -3, 0)\n",
    "    s = pm.Uniform('s', 0, 1)\n",
    "    a = pm.Uniform('a', 0, 20)\n",
    "    \n",
    "    sir_curves = sir_model(y0=[0.068], theta=[c, s, a])\n",
    "\n",
    "    Y = pm.Lognormal('Y', mu=pm.math.log(sir_curves), sigma=sigma, observed=yobs)\n",
    "#    db = pm.backends.HDF5('traces.h5') # Salva as amostras e assim evita de manter tudo na memória\n",
    "    trace = pm.sample(2000, tune=1000, start={'R0': np.array(2), 'c': np.array(-0.2), 'sigma': np.array([1]), 's': np.array(0.5), 'a': np.array(1.31)})"
   ]
  },
  {
   "cell_type": "markdown",
   "id": "cd98b169",
   "metadata": {},
   "source": [
    "Dados da estimação dos parametros:"
   ]
  },
  {
   "cell_type": "code",
   "execution_count": null,
   "id": "0418200a",
   "metadata": {},
   "outputs": [],
   "source": [
    "data = az.from_pymc3(trace=trace)\n",
    "data"
   ]
  },
  {
   "cell_type": "markdown",
   "id": "2a96f095",
   "metadata": {},
   "source": [
    "Posteriori dos parametros"
   ]
  },
  {
   "cell_type": "code",
   "execution_count": null,
   "id": "fa329d4e",
   "metadata": {
    "scrolled": true
   },
   "outputs": [],
   "source": [
    "az.plot_posterior(data, round_to=2, hdi_prob=0.95);"
   ]
  },
  {
   "cell_type": "markdown",
   "id": "1265615b",
   "metadata": {},
   "source": [
    "Modelagem do Gaelic"
   ]
  },
  {
   "cell_type": "code",
   "execution_count": 9,
   "id": "bc6c43e0",
   "metadata": {},
   "outputs": [
    {
     "data": {
      "image/png": "[encoded data removed]",
      "text/plain": [
       "<Figure size 432x288 with 1 Axes>"
      ]
     },
     "metadata": {},
     "output_type": "display_data"
    }
   ],
   "source": [
    "y = odeint(SIR, y0=[0.068], t=times, args=((-1.059, 0.8288, 5.812),), rtol=1e-8) # argumentos chutados\n",
    "\n",
    "plt.plot(times[1::], yobs, marker='o', linestyle='none')\n",
    "plt.plot(times, y[:], color='C0', alpha=0.5, label=f'$S(t)$')\n",
    "plt.legend();"
   ]
  }
 ],
 "metadata": {
  "kernelspec": {
   "display_name": "Python 3 (ipykernel)",
   "language": "python",
   "name": "python3"
  },
  "language_info": {
   "codemirror_mode": {
    "name": "ipython",
    "version": 3
   },
   "file_extension": ".py",
   "mimetype": "text/x-python",
   "name": "python",
   "nbconvert_exporter": "python",
   "pygments_lexer": "ipython3",
   "version": "3.9.7"
  }
 },
 "nbformat": 4,
 "nbformat_minor": 5
}
