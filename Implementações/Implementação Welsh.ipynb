{
 "cells": [
  {
   "cell_type": "markdown",
   "id": "162322db",
   "metadata": {},
   "source": [
    "# Implementação Welsh"
   ]
  },
  {
   "cell_type": "code",
   "execution_count": 1,
   "id": "a13fef55",
   "metadata": {},
   "outputs": [
    {
     "name": "stdout",
     "output_type": "stream",
     "text": [
      "Defaulting to user installation because normal site-packages is not writeable\n",
      "Requirement already satisfied: pymc3 in /home/wellington/.local/lib/python3.9/site-packages (3.11.4)\n",
      "Requirement already satisfied: theano-pymc==1.1.2 in /home/wellington/.local/lib/python3.9/site-packages (from pymc3) (1.1.2)\n",
      "Requirement already satisfied: typing-extensions>=3.7.4 in /home/wellington/.local/lib/python3.9/site-packages (from pymc3) (3.10.0.0)\n",
      "Requirement already satisfied: cachetools>=4.2.1 in /usr/lib/python3.9/site-packages (from pymc3) (4.2.3)\n",
      "Requirement already satisfied: patsy>=0.5.1 in /home/wellington/.local/lib/python3.9/site-packages (from pymc3) (0.5.2)\n",
      "Requirement already satisfied: scipy>=1.2.0 in /usr/lib/python3.9/site-packages (from pymc3) (1.7.1)\n",
      "Requirement already satisfied: semver>=2.13.0 in /home/wellington/.local/lib/python3.9/site-packages (from pymc3) (2.13.0)\n",
      "Requirement already satisfied: pandas>=0.24.0 in /home/wellington/.local/lib/python3.9/site-packages (from pymc3) (1.3.1)\n",
      "Requirement already satisfied: numpy>=1.15.0 in /home/wellington/.local/lib/python3.9/site-packages (from pymc3) (1.21.2)\n",
      "Requirement already satisfied: fastprogress>=0.2.0 in /home/wellington/.local/lib/python3.9/site-packages (from pymc3) (1.0.0)\n",
      "Requirement already satisfied: dill in /home/wellington/.local/lib/python3.9/site-packages (from pymc3) (0.3.4)\n",
      "Requirement already satisfied: arviz>=0.11.0 in /home/wellington/.local/lib/python3.9/site-packages (from pymc3) (0.11.4)\n",
      "Requirement already satisfied: filelock in /usr/lib/python3.9/site-packages (from theano-pymc==1.1.2->pymc3) (3.0.12)\n",
      "Requirement already satisfied: xarray>=0.16.1 in /home/wellington/.local/lib/python3.9/site-packages (from arviz>=0.11.0->pymc3) (0.20.1)\n",
      "Requirement already satisfied: matplotlib>=3.0 in /home/wellington/.local/lib/python3.9/site-packages (from arviz>=0.11.0->pymc3) (3.4.2)\n",
      "Requirement already satisfied: netcdf4 in /home/wellington/.local/lib/python3.9/site-packages (from arviz>=0.11.0->pymc3) (1.5.8)\n",
      "Requirement already satisfied: packaging in /home/wellington/.local/lib/python3.9/site-packages (from arviz>=0.11.0->pymc3) (21.0)\n",
      "Requirement already satisfied: setuptools>=38.4 in /home/wellington/.local/lib/python3.9/site-packages (from arviz>=0.11.0->pymc3) (57.4.0)\n",
      "Requirement already satisfied: pytz>=2017.3 in /usr/lib/python3.9/site-packages (from pandas>=0.24.0->pymc3) (2021.1)\n",
      "Requirement already satisfied: python-dateutil>=2.7.3 in /usr/lib/python3.9/site-packages (from pandas>=0.24.0->pymc3) (2.8.2)\n",
      "Requirement already satisfied: six in /usr/lib/python3.9/site-packages (from patsy>=0.5.1->pymc3) (1.16.0)\n",
      "Requirement already satisfied: pillow>=6.2.0 in /usr/lib/python3.9/site-packages (from matplotlib>=3.0->arviz>=0.11.0->pymc3) (8.3.2)\n",
      "Requirement already satisfied: cycler>=0.10 in /home/wellington/.local/lib/python3.9/site-packages (from matplotlib>=3.0->arviz>=0.11.0->pymc3) (0.10.0)\n",
      "Requirement already satisfied: pyparsing>=2.2.1 in /home/wellington/.local/lib/python3.9/site-packages (from matplotlib>=3.0->arviz>=0.11.0->pymc3) (2.4.7)\n",
      "Requirement already satisfied: kiwisolver>=1.0.1 in /home/wellington/.local/lib/python3.9/site-packages (from matplotlib>=3.0->arviz>=0.11.0->pymc3) (1.3.1)\n",
      "Requirement already satisfied: cftime in /home/wellington/.local/lib/python3.9/site-packages (from netcdf4->arviz>=0.11.0->pymc3) (1.5.1.1)\n"
     ]
    }
   ],
   "source": [
    "!pip install pymc3"
   ]
  },
  {
   "cell_type": "markdown",
   "id": "8a1fc2c3",
   "metadata": {},
   "source": [
    "### Imports"
   ]
  },
  {
   "cell_type": "code",
   "execution_count": 2,
   "id": "83abbe2a",
   "metadata": {},
   "outputs": [],
   "source": [
    "%matplotlib inline\n",
    "import pymc3 as pm\n",
    "from pymc3.ode import DifferentialEquation\n",
    "import numpy as np\n",
    "import matplotlib.pyplot as plt\n",
    "from scipy.integrate import odeint\n",
    "import arviz as az\n",
    "import theano\n",
    "\n",
    "plt.style.use('seaborn-darkgrid')"
   ]
  }
 ],
 "metadata": {
  "kernelspec": {
   "display_name": "Python 3 (ipykernel)",
   "language": "python",
   "name": "python3"
  },
  "language_info": {
   "codemirror_mode": {
    "name": "ipython",
    "version": 3
   },
   "file_extension": ".py",
   "mimetype": "text/x-python",
   "name": "python",
   "nbconvert_exporter": "python",
   "pygments_lexer": "ipython3",
   "version": "3.9.7"
  }
 },
 "nbformat": 4,
 "nbformat_minor": 5
}
