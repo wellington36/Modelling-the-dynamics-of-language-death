{
 "cells": [
  {
   "cell_type": "markdown",
   "id": "88a18018",
   "metadata": {},
   "source": [
    "# Implementação"
   ]
  },
  {
   "cell_type": "code",
   "execution_count": 2,
   "id": "2cb993af",
   "metadata": {},
   "outputs": [],
   "source": [
    "def ODEsys(t,y,params):\n",
    "    a,c,s = params\n",
    "    A = y\n",
    "    return[(1 - A)*c*s*(A)**a + A*c*(1-s)*(1-A)**a]"
   ]
  },
  {
   "cell_type": "code",
   "execution_count": 9,
   "id": "44c3a25f",
   "metadata": {},
   "outputs": [],
   "source": [
    "T=ode_solver()\n",
    "T.algorithm=\"rk8pd\"\n",
    "T.function=ODEsys"
   ]
  },
  {
   "cell_type": "code",
   "execution_count": 2,
   "id": "7dd8bcab",
   "metadata": {},
   "outputs": [
    {
     "name": "stdout",
     "output_type": "stream",
     "text": [
      "Defaulting to user installation because normal site-packages is not writeable\n",
      "Requirement already satisfied: pymc3 in /home/wellington/.sage/local/lib/python3.9/site-packages (3.11.4)\n",
      "Requirement already satisfied: arviz>=0.11.0 in /home/wellington/.sage/local/lib/python3.9/site-packages (from pymc3) (0.11.4)\n",
      "Requirement already satisfied: numpy>=1.15.0 in /usr/lib/python3.9/site-packages (from pymc3) (1.21.2)\n",
      "Requirement already satisfied: cachetools>=4.2.1 in /usr/lib/python3.9/site-packages (from pymc3) (4.2.3)\n",
      "Requirement already satisfied: patsy>=0.5.1 in /home/wellington/.sage/local/lib/python3.9/site-packages (from pymc3) (0.5.2)\n",
      "Requirement already satisfied: scipy>=1.2.0 in /usr/lib/python3.9/site-packages (from pymc3) (1.7.1)\n",
      "Requirement already satisfied: theano-pymc==1.1.2 in /home/wellington/.sage/local/lib/python3.9/site-packages (from pymc3) (1.1.2)\n",
      "Requirement already satisfied: semver>=2.13.0 in /home/wellington/.sage/local/lib/python3.9/site-packages (from pymc3) (2.13.0)\n",
      "Requirement already satisfied: dill in /home/wellington/.sage/local/lib/python3.9/site-packages (from pymc3) (0.3.4)\n",
      "Requirement already satisfied: fastprogress>=0.2.0 in /home/wellington/.sage/local/lib/python3.9/site-packages (from pymc3) (1.0.0)\n",
      "Requirement already satisfied: typing-extensions>=3.7.4 in /home/wellington/.sage/local/lib/python3.9/site-packages (from pymc3) (3.10.0.2)\n",
      "Requirement already satisfied: pandas>=0.24.0 in /usr/lib/python3.9/site-packages (from pymc3) (1.3.3)\n",
      "Requirement already satisfied: filelock in /usr/lib/python3.9/site-packages (from theano-pymc==1.1.2->pymc3) (3.0.12)\n",
      "Requirement already satisfied: matplotlib>=3.0 in /usr/lib/python3.9/site-packages (from arviz>=0.11.0->pymc3) (3.4.3)\n",
      "Requirement already satisfied: netcdf4 in /home/wellington/.sage/local/lib/python3.9/site-packages (from arviz>=0.11.0->pymc3) (1.5.8)\n",
      "Requirement already satisfied: setuptools>=38.4 in /usr/lib/python3.9/site-packages (from arviz>=0.11.0->pymc3) (57.4.0)\n",
      "Requirement already satisfied: packaging in /usr/lib/python3.9/site-packages (from arviz>=0.11.0->pymc3) (20.9)\n",
      "Requirement already satisfied: xarray>=0.16.1 in /home/wellington/.sage/local/lib/python3.9/site-packages (from arviz>=0.11.0->pymc3) (0.20.1)\n",
      "Requirement already satisfied: cycler>=0.10 in /usr/lib/python3.9/site-packages (from matplotlib>=3.0->arviz>=0.11.0->pymc3) (0.10.0)\n",
      "Requirement already satisfied: kiwisolver>=1.0.1 in /usr/lib/python3.9/site-packages (from matplotlib>=3.0->arviz>=0.11.0->pymc3) (1.3.2)\n",
      "Requirement already satisfied: pillow>=6.2.0 in /usr/lib/python3.9/site-packages (from matplotlib>=3.0->arviz>=0.11.0->pymc3) (8.3.2)\n",
      "Requirement already satisfied: pyparsing>=2.2.1 in /usr/lib/python3.9/site-packages (from matplotlib>=3.0->arviz>=0.11.0->pymc3) (2.4.7)\n",
      "Requirement already satisfied: python-dateutil>=2.7 in /usr/lib/python3.9/site-packages (from matplotlib>=3.0->arviz>=0.11.0->pymc3) (2.8.2)\n",
      "Requirement already satisfied: six in /usr/lib/python3.9/site-packages (from cycler>=0.10->matplotlib>=3.0->arviz>=0.11.0->pymc3) (1.16.0)\n",
      "Requirement already satisfied: pytz>=2017.3 in /usr/lib/python3.9/site-packages (from pandas>=0.24.0->pymc3) (2021.1)\n",
      "Requirement already satisfied: cftime in /home/wellington/.sage/local/lib/python3.9/site-packages (from netcdf4->arviz>=0.11.0->pymc3) (1.5.1.1)\n"
     ]
    }
   ],
   "source": [
    "!pip install pymc3"
   ]
  },
  {
   "cell_type": "code",
   "execution_count": 5,
   "id": "b9bce03f",
   "metadata": {},
   "outputs": [],
   "source": [
    "%matplotlib inline\n",
    "import pymc3 as pm\n",
    "from pymc3.ode import DifferentialEquation\n",
    "import numpy as np\n",
    "import matplotlib.pyplot as plt\n",
    "from scipy.integrate import odeint\n",
    "import arviz as az\n",
    "import theano\n",
    "\n",
    "plt.style.use('seaborn-darkgrid')"
   ]
  },
  {
   "cell_type": "code",
   "execution_count": 17,
   "id": "c1f68580",
   "metadata": {},
   "outputs": [
    {
     "ename": "TypeError",
     "evalue": "SIR() missing 3 required positional arguments: 'c', 's', and 'a'",
     "output_type": "error",
     "traceback": [
      "\u001b[0;31m---------------------------------------------------------------------------\u001b[0m",
      "\u001b[0;31mTypeError\u001b[0m                                 Traceback (most recent call last)",
      "\u001b[0;32m/tmp/ipykernel_3493/633282788.py\u001b[0m in \u001b[0;36m<module>\u001b[0;34m\u001b[0m\n\u001b[1;32m      7\u001b[0m \u001b[0mbeta\u001b[0m\u001b[0;34m,\u001b[0m\u001b[0mgamma\u001b[0m \u001b[0;34m=\u001b[0m \u001b[0mInteger\u001b[0m\u001b[0;34m(\u001b[0m\u001b[0;36m4\u001b[0m\u001b[0;34m)\u001b[0m\u001b[0;34m,\u001b[0m\u001b[0mRealNumber\u001b[0m\u001b[0;34m(\u001b[0m\u001b[0;34m\"1.0\"\u001b[0m\u001b[0;34m)\u001b[0m\u001b[0;34m\u001b[0m\u001b[0;34m\u001b[0m\u001b[0m\n\u001b[1;32m      8\u001b[0m \u001b[0;31m# Gerando curvas simuladas\u001b[0m\u001b[0;34m\u001b[0m\u001b[0;34m\u001b[0m\u001b[0m\n\u001b[0;32m----> 9\u001b[0;31m \u001b[0my\u001b[0m \u001b[0;34m=\u001b[0m \u001b[0modeint\u001b[0m\u001b[0;34m(\u001b[0m\u001b[0mSIR\u001b[0m\u001b[0;34m,\u001b[0m \u001b[0mt\u001b[0m\u001b[0;34m=\u001b[0m\u001b[0mtimes\u001b[0m\u001b[0;34m,\u001b[0m \u001b[0my0\u001b[0m\u001b[0;34m=\u001b[0m\u001b[0;34m[\u001b[0m\u001b[0mInteger\u001b[0m\u001b[0;34m(\u001b[0m\u001b[0;36m100000\u001b[0m\u001b[0;34m)\u001b[0m\u001b[0;34m]\u001b[0m\u001b[0;34m,\u001b[0m \u001b[0mrtol\u001b[0m\u001b[0;34m=\u001b[0m\u001b[0mRealNumber\u001b[0m\u001b[0;34m(\u001b[0m\u001b[0;34m\"1e-8\"\u001b[0m\u001b[0;34m)\u001b[0m\u001b[0;34m)\u001b[0m\u001b[0;34m\u001b[0m\u001b[0;34m\u001b[0m\u001b[0m\n\u001b[0m\u001b[1;32m     10\u001b[0m \u001b[0;31m# Simulando dados  Assumindo uma distribuição log-normal com média igual às séries simuladas\u001b[0m\u001b[0;34m\u001b[0m\u001b[0;34m\u001b[0m\u001b[0m\n\u001b[1;32m     11\u001b[0m \u001b[0mprint\u001b[0m\u001b[0;34m(\u001b[0m\u001b[0mFOOOOOOOOOOOOOII\u001b[0m\u001b[0;34m)\u001b[0m\u001b[0;34m\u001b[0m\u001b[0;34m\u001b[0m\u001b[0m\n",
      "\u001b[0;32m/usr/lib/python3.9/site-packages/scipy/integrate/odepack.py\u001b[0m in \u001b[0;36modeint\u001b[0;34m(func, y0, t, args, Dfun, col_deriv, full_output, ml, mu, rtol, atol, tcrit, h0, hmax, hmin, ixpr, mxstep, mxhnil, mxordn, mxords, printmessg, tfirst)\u001b[0m\n\u001b[1;32m    239\u001b[0m     \u001b[0mt\u001b[0m \u001b[0;34m=\u001b[0m \u001b[0mcopy\u001b[0m\u001b[0;34m(\u001b[0m\u001b[0mt\u001b[0m\u001b[0;34m)\u001b[0m\u001b[0;34m\u001b[0m\u001b[0;34m\u001b[0m\u001b[0m\n\u001b[1;32m    240\u001b[0m     \u001b[0my0\u001b[0m \u001b[0;34m=\u001b[0m \u001b[0mcopy\u001b[0m\u001b[0;34m(\u001b[0m\u001b[0my0\u001b[0m\u001b[0;34m)\u001b[0m\u001b[0;34m\u001b[0m\u001b[0;34m\u001b[0m\u001b[0m\n\u001b[0;32m--> 241\u001b[0;31m     output = _odepack.odeint(func, y0, t, args, Dfun, col_deriv, ml, mu,\n\u001b[0m\u001b[1;32m    242\u001b[0m                              \u001b[0mfull_output\u001b[0m\u001b[0;34m,\u001b[0m \u001b[0mrtol\u001b[0m\u001b[0;34m,\u001b[0m \u001b[0matol\u001b[0m\u001b[0;34m,\u001b[0m \u001b[0mtcrit\u001b[0m\u001b[0;34m,\u001b[0m \u001b[0mh0\u001b[0m\u001b[0;34m,\u001b[0m \u001b[0mhmax\u001b[0m\u001b[0;34m,\u001b[0m \u001b[0mhmin\u001b[0m\u001b[0;34m,\u001b[0m\u001b[0;34m\u001b[0m\u001b[0;34m\u001b[0m\u001b[0m\n\u001b[1;32m    243\u001b[0m                              \u001b[0mixpr\u001b[0m\u001b[0;34m,\u001b[0m \u001b[0mmxstep\u001b[0m\u001b[0;34m,\u001b[0m \u001b[0mmxhnil\u001b[0m\u001b[0;34m,\u001b[0m \u001b[0mmxordn\u001b[0m\u001b[0;34m,\u001b[0m \u001b[0mmxords\u001b[0m\u001b[0;34m,\u001b[0m\u001b[0;34m\u001b[0m\u001b[0;34m\u001b[0m\u001b[0m\n",
      "\u001b[0;31mTypeError\u001b[0m: SIR() missing 3 required positional arguments: 'c', 's', and 'a'"
     ]
    }
   ],
   "source": [
    "def SIR(y, t, c, s, a):\n",
    "    dt = (1 - y)*c*s(y)*a + y*c(1-s)*(1-y)*a\n",
    "    return [dt]\n",
    "\n",
    "times = np.arange(1951, 2040, 10)\n",
    "\n",
    "beta,gamma = 4,1.0\n",
    "# Gerando curvas simuladas\n",
    "y = odeint(SIR, t=times, y0=[100000], rtol=1e-8)\n",
    "# Simulando dados  Assumindo uma distribuição log-normal com média igual às séries simuladas\n",
    "print(FOOOOOOOOOOOOOII)\n",
    "yobs = np.random.lognormal(mean=np.log(y[1::]), sigma=[0.2, 0.3])\n",
    "\n",
    "plt.plot(times[1::], yobs, marker='o', linestyle='none')\n",
    "plt.plot(times, y[:, 0], color='C0', alpha=0.5, label=f'$S(t)$')\n",
    "plt.plot(times, y[:, 1], color='C1', alpha=0.5, label=f'$I(t)$');\n",
    "plt.legend();"
   ]
  },
  {
   "cell_type": "code",
   "execution_count": null,
   "id": "bf1fc596",
   "metadata": {},
   "outputs": [],
   "source": []
  }
 ],
 "metadata": {
  "kernelspec": {
   "display_name": "SageMath 9.4",
   "language": "sage",
   "name": "sagemath"
  },
  "language_info": {
   "codemirror_mode": {
    "name": "ipython",
    "version": 3
   },
   "file_extension": ".py",
   "mimetype": "text/x-python",
   "name": "python",
   "nbconvert_exporter": "python",
   "pygments_lexer": "ipython3",
   "version": "3.9.7"
  }
 },
 "nbformat": 4,
 "nbformat_minor": 5
}
