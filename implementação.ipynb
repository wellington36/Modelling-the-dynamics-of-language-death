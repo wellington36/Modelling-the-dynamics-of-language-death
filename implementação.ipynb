{
 "cells": [
  {
   "cell_type": "markdown",
   "id": "88a18018",
   "metadata": {},
   "source": [
    "# Implementação"
   ]
  },
  {
   "cell_type": "code",
   "execution_count": 27,
   "id": "2cb993af",
   "metadata": {},
   "outputs": [],
   "source": [
    "def ODEsys(t,y,params):\n",
    "    a,c,s = params\n",
    "    A = y\n",
    "    return[(1 - A)*c*s*(A)**a + A*c*(1-s)*(1-A)**a]"
   ]
  },
  {
   "cell_type": "code",
   "execution_count": 9,
   "id": "44c3a25f",
   "metadata": {},
   "outputs": [],
   "source": [
    "T=ode_solver()\n",
    "T.algorithm=\"rk8pd\"\n",
    "T.function=ODEsys"
   ]
  },
  {
   "cell_type": "code",
   "execution_count": 6,
   "id": "7dd8bcab",
   "metadata": {},
   "outputs": [
    {
     "name": "stdout",
     "output_type": "stream",
     "text": [
      "Defaulting to user installation because normal site-packages is not writeable\n",
      "Requirement already satisfied: pymc3 in /home/wellington/.sage/local/lib/python3.9/site-packages (3.11.4)\n",
      "Requirement already satisfied: patsy>=0.5.1 in /home/wellington/.sage/local/lib/python3.9/site-packages (from pymc3) (0.5.2)\n",
      "Requirement already satisfied: dill in /home/wellington/.sage/local/lib/python3.9/site-packages (from pymc3) (0.3.4)\n",
      "Requirement already satisfied: cachetools>=4.2.1 in /usr/lib/python3.9/site-packages (from pymc3) (4.2.3)\n",
      "Requirement already satisfied: numpy>=1.15.0 in /usr/lib/python3.9/site-packages (from pymc3) (1.21.2)\n",
      "Requirement already satisfied: pandas>=0.24.0 in /usr/lib/python3.9/site-packages (from pymc3) (1.3.3)\n",
      "Requirement already satisfied: scipy>=1.2.0 in /usr/lib/python3.9/site-packages (from pymc3) (1.7.1)\n",
      "Requirement already satisfied: arviz>=0.11.0 in /home/wellington/.sage/local/lib/python3.9/site-packages (from pymc3) (0.11.4)\n",
      "Requirement already satisfied: fastprogress>=0.2.0 in /home/wellington/.sage/local/lib/python3.9/site-packages (from pymc3) (1.0.0)\n",
      "Requirement already satisfied: theano-pymc==1.1.2 in /home/wellington/.sage/local/lib/python3.9/site-packages (from pymc3) (1.1.2)\n",
      "Requirement already satisfied: typing-extensions>=3.7.4 in /home/wellington/.sage/local/lib/python3.9/site-packages (from pymc3) (3.10.0.2)\n",
      "Requirement already satisfied: semver>=2.13.0 in /home/wellington/.sage/local/lib/python3.9/site-packages (from pymc3) (2.13.0)\n",
      "Requirement already satisfied: filelock in /usr/lib/python3.9/site-packages (from theano-pymc==1.1.2->pymc3) (3.0.12)\n",
      "Requirement already satisfied: setuptools>=38.4 in /usr/lib/python3.9/site-packages (from arviz>=0.11.0->pymc3) (57.4.0)\n",
      "Requirement already satisfied: netcdf4 in /home/wellington/.sage/local/lib/python3.9/site-packages (from arviz>=0.11.0->pymc3) (1.5.8)\n",
      "Requirement already satisfied: packaging in /usr/lib/python3.9/site-packages (from arviz>=0.11.0->pymc3) (20.9)\n",
      "Requirement already satisfied: xarray>=0.16.1 in /home/wellington/.sage/local/lib/python3.9/site-packages (from arviz>=0.11.0->pymc3) (0.20.1)\n",
      "Requirement already satisfied: matplotlib>=3.0 in /usr/lib/python3.9/site-packages (from arviz>=0.11.0->pymc3) (3.4.3)\n",
      "Requirement already satisfied: cycler>=0.10 in /usr/lib/python3.9/site-packages (from matplotlib>=3.0->arviz>=0.11.0->pymc3) (0.10.0)\n",
      "Requirement already satisfied: kiwisolver>=1.0.1 in /usr/lib/python3.9/site-packages (from matplotlib>=3.0->arviz>=0.11.0->pymc3) (1.3.2)\n",
      "Requirement already satisfied: pillow>=6.2.0 in /usr/lib/python3.9/site-packages (from matplotlib>=3.0->arviz>=0.11.0->pymc3) (8.3.2)\n",
      "Requirement already satisfied: pyparsing>=2.2.1 in /usr/lib/python3.9/site-packages (from matplotlib>=3.0->arviz>=0.11.0->pymc3) (2.4.7)\n",
      "Requirement already satisfied: python-dateutil>=2.7 in /usr/lib/python3.9/site-packages (from matplotlib>=3.0->arviz>=0.11.0->pymc3) (2.8.2)\n",
      "Requirement already satisfied: six in /usr/lib/python3.9/site-packages (from cycler>=0.10->matplotlib>=3.0->arviz>=0.11.0->pymc3) (1.16.0)\n",
      "Requirement already satisfied: pytz>=2017.3 in /usr/lib/python3.9/site-packages (from pandas>=0.24.0->pymc3) (2021.1)\n",
      "Requirement already satisfied: cftime in /home/wellington/.sage/local/lib/python3.9/site-packages (from netcdf4->arviz>=0.11.0->pymc3) (1.5.1.1)\n"
     ]
    }
   ],
   "source": [
    "!pip install pymc3"
   ]
  },
  {
   "cell_type": "code",
   "execution_count": 8,
   "id": "b9bce03f",
   "metadata": {},
   "outputs": [],
   "source": [
    "%matplotlib inline\n",
    "import pymc3 as pm\n",
    "from pymc3.ode import DifferentialEquation\n",
    "import numpy as np\n",
    "import matplotlib.pyplot as plt\n",
    "from scipy.integrate import odeint\n",
    "import arviz as az\n",
    "import theano\n",
    "\n",
    "plt.style.use('seaborn-darkgrid')"
   ]
  },
  {
   "cell_type": "code",
   "execution_count": 35,
   "id": "c1f68580",
   "metadata": {},
   "outputs": [],
   "source": [
    "def SIR(self, y, t, p):\n",
    "    dt = (1 - y)*p[0]*p[1]*(y)**p[2] + y*p[0]*(1-p[1])*(1-y)**p[2]\n",
    "    return [dt]"
   ]
  },
  {
   "cell_type": "code",
   "execution_count": 36,
   "id": "bf1fc596",
   "metadata": {},
   "outputs": [
    {
     "ename": "TypeError",
     "evalue": "SIR() missing 1 required positional argument: 'p'",
     "output_type": "error",
     "traceback": [
      "\u001b[0;31m---------------------------------------------------------------------------\u001b[0m",
      "\u001b[0;31mTypeError\u001b[0m                                 Traceback (most recent call last)",
      "\u001b[0;32m/tmp/ipykernel_9029/2811120966.py\u001b[0m in \u001b[0;36m<module>\u001b[0;34m\u001b[0m\n\u001b[0;32m----> 1\u001b[0;31m sir_model = DifferentialEquation(\n\u001b[0m\u001b[1;32m      2\u001b[0m     \u001b[0mfunc\u001b[0m\u001b[0;34m=\u001b[0m\u001b[0mSIR\u001b[0m\u001b[0;34m,\u001b[0m\u001b[0;34m\u001b[0m\u001b[0;34m\u001b[0m\u001b[0m\n\u001b[1;32m      3\u001b[0m     \u001b[0mtimes\u001b[0m\u001b[0;34m=\u001b[0m\u001b[0mnp\u001b[0m\u001b[0;34m.\u001b[0m\u001b[0marange\u001b[0m\u001b[0;34m(\u001b[0m\u001b[0mInteger\u001b[0m\u001b[0;34m(\u001b[0m\u001b[0;36m1951\u001b[0m\u001b[0;34m)\u001b[0m\u001b[0;34m,\u001b[0m \u001b[0mInteger\u001b[0m\u001b[0;34m(\u001b[0m\u001b[0;36m2040\u001b[0m\u001b[0;34m)\u001b[0m\u001b[0;34m,\u001b[0m \u001b[0mInteger\u001b[0m\u001b[0;34m(\u001b[0m\u001b[0;36m10\u001b[0m\u001b[0;34m)\u001b[0m\u001b[0;34m)\u001b[0m\u001b[0;34m,\u001b[0m\u001b[0;34m\u001b[0m\u001b[0;34m\u001b[0m\u001b[0m\n\u001b[1;32m      4\u001b[0m     \u001b[0mn_states\u001b[0m\u001b[0;34m=\u001b[0m\u001b[0mInteger\u001b[0m\u001b[0;34m(\u001b[0m\u001b[0;36m1\u001b[0m\u001b[0;34m)\u001b[0m\u001b[0;34m,\u001b[0m\u001b[0;34m\u001b[0m\u001b[0;34m\u001b[0m\u001b[0m\n\u001b[1;32m      5\u001b[0m     \u001b[0mn_theta\u001b[0m\u001b[0;34m=\u001b[0m\u001b[0mInteger\u001b[0m\u001b[0;34m(\u001b[0m\u001b[0;36m3\u001b[0m\u001b[0;34m)\u001b[0m\u001b[0;34m,\u001b[0m\u001b[0;34m\u001b[0m\u001b[0;34m\u001b[0m\u001b[0m\n",
      "\u001b[0;32m~/.sage/local/lib/python3.9/site-packages/pymc3/ode/ode.py\u001b[0m in \u001b[0;36m__init__\u001b[0;34m(self, func, times, n_states, n_theta, t0)\u001b[0m\n\u001b[1;32m     96\u001b[0m         \u001b[0;31m# Private\u001b[0m\u001b[0;34m\u001b[0m\u001b[0;34m\u001b[0m\u001b[0m\n\u001b[1;32m     97\u001b[0m         \u001b[0mself\u001b[0m\u001b[0;34m.\u001b[0m\u001b[0m_augmented_times\u001b[0m \u001b[0;34m=\u001b[0m \u001b[0mnp\u001b[0m\u001b[0;34m.\u001b[0m\u001b[0minsert\u001b[0m\u001b[0;34m(\u001b[0m\u001b[0mtimes\u001b[0m\u001b[0;34m,\u001b[0m \u001b[0;36m0\u001b[0m\u001b[0;34m,\u001b[0m \u001b[0mt0\u001b[0m\u001b[0;34m)\u001b[0m\u001b[0;34m.\u001b[0m\u001b[0mastype\u001b[0m\u001b[0;34m(\u001b[0m\u001b[0mfloatX\u001b[0m\u001b[0;34m)\u001b[0m\u001b[0;34m\u001b[0m\u001b[0;34m\u001b[0m\u001b[0m\n\u001b[0;32m---> 98\u001b[0;31m         \u001b[0mself\u001b[0m\u001b[0;34m.\u001b[0m\u001b[0m_augmented_func\u001b[0m \u001b[0;34m=\u001b[0m \u001b[0mutils\u001b[0m\u001b[0;34m.\u001b[0m\u001b[0maugment_system\u001b[0m\u001b[0;34m(\u001b[0m\u001b[0mfunc\u001b[0m\u001b[0;34m,\u001b[0m \u001b[0mself\u001b[0m\u001b[0;34m.\u001b[0m\u001b[0mn_states\u001b[0m\u001b[0;34m,\u001b[0m \u001b[0mself\u001b[0m\u001b[0;34m.\u001b[0m\u001b[0mn_theta\u001b[0m\u001b[0;34m)\u001b[0m\u001b[0;34m\u001b[0m\u001b[0;34m\u001b[0m\u001b[0m\n\u001b[0m\u001b[1;32m     99\u001b[0m         \u001b[0mself\u001b[0m\u001b[0;34m.\u001b[0m\u001b[0m_sens_ic\u001b[0m \u001b[0;34m=\u001b[0m \u001b[0mutils\u001b[0m\u001b[0;34m.\u001b[0m\u001b[0mmake_sens_ic\u001b[0m\u001b[0;34m(\u001b[0m\u001b[0mself\u001b[0m\u001b[0;34m.\u001b[0m\u001b[0mn_states\u001b[0m\u001b[0;34m,\u001b[0m \u001b[0mself\u001b[0m\u001b[0;34m.\u001b[0m\u001b[0mn_theta\u001b[0m\u001b[0;34m,\u001b[0m \u001b[0mfloatX\u001b[0m\u001b[0;34m)\u001b[0m\u001b[0;34m\u001b[0m\u001b[0;34m\u001b[0m\u001b[0m\n\u001b[1;32m    100\u001b[0m \u001b[0;34m\u001b[0m\u001b[0m\n",
      "\u001b[0;32m~/.sage/local/lib/python3.9/site-packages/pymc3/ode/utils.py\u001b[0m in \u001b[0;36maugment_system\u001b[0;34m(ode_func, n_states, n_theta)\u001b[0m\n\u001b[1;32m    103\u001b[0m \u001b[0;34m\u001b[0m\u001b[0m\n\u001b[1;32m    104\u001b[0m     \u001b[0;31m# Get symbolic representation of the ODEs by passing tensors for y, t and theta\u001b[0m\u001b[0;34m\u001b[0m\u001b[0;34m\u001b[0m\u001b[0m\n\u001b[0;32m--> 105\u001b[0;31m     \u001b[0myhat\u001b[0m \u001b[0;34m=\u001b[0m \u001b[0mode_func\u001b[0m\u001b[0;34m(\u001b[0m\u001b[0mt_y\u001b[0m\u001b[0;34m,\u001b[0m \u001b[0mt_t\u001b[0m\u001b[0;34m,\u001b[0m \u001b[0mt_p\u001b[0m\u001b[0;34m[\u001b[0m\u001b[0mn_states\u001b[0m\u001b[0;34m:\u001b[0m\u001b[0;34m]\u001b[0m\u001b[0;34m)\u001b[0m\u001b[0;34m\u001b[0m\u001b[0;34m\u001b[0m\u001b[0m\n\u001b[0m\u001b[1;32m    106\u001b[0m     \u001b[0;31m# Stack the results of the ode_func into a single tensor variable\u001b[0m\u001b[0;34m\u001b[0m\u001b[0;34m\u001b[0m\u001b[0m\n\u001b[1;32m    107\u001b[0m     \u001b[0;32mif\u001b[0m \u001b[0;32mnot\u001b[0m \u001b[0misinstance\u001b[0m\u001b[0;34m(\u001b[0m\u001b[0myhat\u001b[0m\u001b[0;34m,\u001b[0m \u001b[0;34m(\u001b[0m\u001b[0mlist\u001b[0m\u001b[0;34m,\u001b[0m \u001b[0mtuple\u001b[0m\u001b[0;34m)\u001b[0m\u001b[0;34m)\u001b[0m\u001b[0;34m:\u001b[0m\u001b[0;34m\u001b[0m\u001b[0;34m\u001b[0m\u001b[0m\n",
      "\u001b[0;31mTypeError\u001b[0m: SIR() missing 1 required positional argument: 'p'"
     ]
    }
   ],
   "source": [
    "sir_model = DifferentialEquation(\n",
    "    func=SIR,\n",
    "    times=np.arange(1951, 2040, 10),\n",
    "    n_states=1,\n",
    "    n_theta=3,\n",
    "    t0=1951,\n",
    ")"
   ]
  }
 ],
 "metadata": {
  "kernelspec": {
   "display_name": "SageMath 9.4",
   "language": "sage",
   "name": "sagemath"
  },
  "language_info": {
   "codemirror_mode": {
    "name": "ipython",
    "version": 3
   },
   "file_extension": ".py",
   "mimetype": "text/x-python",
   "name": "python",
   "nbconvert_exporter": "python",
   "pygments_lexer": "ipython3",
   "version": "3.9.7"
  }
 },
 "nbformat": 4,
 "nbformat_minor": 5
}
