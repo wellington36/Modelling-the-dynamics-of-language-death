{
 "cells": [
  {
   "cell_type": "markdown",
   "id": "88a18018",
   "metadata": {},
   "source": [
    "# Implementação"
   ]
  },
  {
   "cell_type": "code",
   "execution_count": 2,
   "id": "2cb993af",
   "metadata": {},
   "outputs": [],
   "source": [
    "def ODEsys(t,y,params):\n",
    "    a,c,s = params\n",
    "    A = y\n",
    "    return[(1 - A)*c*s*(A)**a + A*c*(1-s)*(1-A)**a]"
   ]
  },
  {
   "cell_type": "code",
   "execution_count": 9,
   "id": "44c3a25f",
   "metadata": {},
   "outputs": [],
   "source": [
    "T=ode_solver()\n",
    "T.algorithm=\"rk8pd\"\n",
    "T.function=ODEsys"
   ]
  },
  {
   "cell_type": "code",
   "execution_count": 10,
   "id": "7dd8bcab",
   "metadata": {},
   "outputs": [
    {
     "data": {
      "text/plain": [
       "[]"
      ]
     },
     "execution_count": 10,
     "metadata": {},
     "output_type": "execute_result"
    }
   ],
   "source": [
    "T.solution[:10]"
   ]
  },
  {
   "cell_type": "code",
   "execution_count": null,
   "id": "b9bce03f",
   "metadata": {},
   "outputs": [],
   "source": []
  }
 ],
 "metadata": {
  "kernelspec": {
   "display_name": "SageMath 9.4",
   "language": "sage",
   "name": "sagemath"
  },
  "language_info": {
   "codemirror_mode": {
    "name": "ipython",
    "version": 3
   },
   "file_extension": ".py",
   "mimetype": "text/x-python",
   "name": "python",
   "nbconvert_exporter": "python",
   "pygments_lexer": "ipython3",
   "version": "3.9.7"
  }
 },
 "nbformat": 4,
 "nbformat_minor": 5
}
